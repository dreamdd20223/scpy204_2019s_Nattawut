{
 "cells": [
  {
   "cell_type": "code",
   "execution_count": 10,
   "metadata": {},
   "outputs": [],
   "source": [
    "import matplotlib.pyplot as plt\n",
    "import numpy as np\n",
    "import pandas as pd\n"
   ]
  },
  {
   "cell_type": "code",
   "execution_count": 18,
   "metadata": {},
   "outputs": [
    {
     "data": {
      "text/html": [
       "<div>\n",
       "<style scoped>\n",
       "    .dataframe tbody tr th:only-of-type {\n",
       "        vertical-align: middle;\n",
       "    }\n",
       "\n",
       "    .dataframe tbody tr th {\n",
       "        vertical-align: top;\n",
       "    }\n",
       "\n",
       "    .dataframe thead th {\n",
       "        text-align: right;\n",
       "    }\n",
       "</style>\n",
       "<table border=\"1\" class=\"dataframe\">\n",
       "  <thead>\n",
       "    <tr style=\"text-align: right;\">\n",
       "      <th></th>\n",
       "      <th>z</th>\n",
       "      <th>zErr</th>\n",
       "      <th>petroMag_g</th>\n",
       "      <th>petroMagErr_g</th>\n",
       "    </tr>\n",
       "  </thead>\n",
       "  <tbody>\n",
       "    <tr>\n",
       "      <td>0</td>\n",
       "      <td>0.323450</td>\n",
       "      <td>0.000087</td>\n",
       "      <td>21.07570</td>\n",
       "      <td>0.300306</td>\n",
       "    </tr>\n",
       "    <tr>\n",
       "      <td>1</td>\n",
       "      <td>0.340526</td>\n",
       "      <td>0.000098</td>\n",
       "      <td>20.43547</td>\n",
       "      <td>0.325360</td>\n",
       "    </tr>\n",
       "    <tr>\n",
       "      <td>2</td>\n",
       "      <td>0.369659</td>\n",
       "      <td>0.000090</td>\n",
       "      <td>22.88848</td>\n",
       "      <td>0.323157</td>\n",
       "    </tr>\n",
       "    <tr>\n",
       "      <td>3</td>\n",
       "      <td>0.301680</td>\n",
       "      <td>0.000067</td>\n",
       "      <td>20.22336</td>\n",
       "      <td>0.085813</td>\n",
       "    </tr>\n",
       "    <tr>\n",
       "      <td>4</td>\n",
       "      <td>0.379224</td>\n",
       "      <td>0.000161</td>\n",
       "      <td>21.53225</td>\n",
       "      <td>0.210532</td>\n",
       "    </tr>\n",
       "    <tr>\n",
       "      <td>...</td>\n",
       "      <td>...</td>\n",
       "      <td>...</td>\n",
       "      <td>...</td>\n",
       "      <td>...</td>\n",
       "    </tr>\n",
       "    <tr>\n",
       "      <td>95</td>\n",
       "      <td>0.310309</td>\n",
       "      <td>0.000057</td>\n",
       "      <td>19.74530</td>\n",
       "      <td>0.070862</td>\n",
       "    </tr>\n",
       "    <tr>\n",
       "      <td>96</td>\n",
       "      <td>0.379828</td>\n",
       "      <td>0.000092</td>\n",
       "      <td>20.67229</td>\n",
       "      <td>0.110135</td>\n",
       "    </tr>\n",
       "    <tr>\n",
       "      <td>97</td>\n",
       "      <td>0.383024</td>\n",
       "      <td>0.000090</td>\n",
       "      <td>20.83109</td>\n",
       "      <td>0.135000</td>\n",
       "    </tr>\n",
       "    <tr>\n",
       "      <td>98</td>\n",
       "      <td>0.376603</td>\n",
       "      <td>0.000074</td>\n",
       "      <td>20.52240</td>\n",
       "      <td>0.099923</td>\n",
       "    </tr>\n",
       "    <tr>\n",
       "      <td>99</td>\n",
       "      <td>0.382897</td>\n",
       "      <td>0.000129</td>\n",
       "      <td>20.95227</td>\n",
       "      <td>0.225174</td>\n",
       "    </tr>\n",
       "  </tbody>\n",
       "</table>\n",
       "<p>100 rows × 4 columns</p>\n",
       "</div>"
      ],
      "text/plain": [
       "           z      zErr  petroMag_g  petroMagErr_g\n",
       "0   0.323450  0.000087    21.07570       0.300306\n",
       "1   0.340526  0.000098    20.43547       0.325360\n",
       "2   0.369659  0.000090    22.88848       0.323157\n",
       "3   0.301680  0.000067    20.22336       0.085813\n",
       "4   0.379224  0.000161    21.53225       0.210532\n",
       "..       ...       ...         ...            ...\n",
       "95  0.310309  0.000057    19.74530       0.070862\n",
       "96  0.379828  0.000092    20.67229       0.110135\n",
       "97  0.383024  0.000090    20.83109       0.135000\n",
       "98  0.376603  0.000074    20.52240       0.099923\n",
       "99  0.382897  0.000129    20.95227       0.225174\n",
       "\n",
       "[100 rows x 4 columns]"
      ]
     },
     "execution_count": 18,
     "metadata": {},
     "output_type": "execute_result"
    }
   ],
   "source": [
    "data = pd.read_csv(\"informationskye.csv\")\n",
    "data\n"
   ]
  },
  {
   "cell_type": "code",
   "execution_count": 19,
   "metadata": {},
   "outputs": [
    {
     "data": {
      "text/plain": [
       "<function matplotlib.pyplot.show(*args, **kw)>"
      ]
     },
     "execution_count": 19,
     "metadata": {},
     "output_type": "execute_result"
    },
    {
     "data": {
      "image/png": "[encoded data removed]",
      "text/plain": [
       "<Figure size 432x288 with 1 Axes>"
      ]
     },
     "metadata": {
      "needs_background": "light"
     },
     "output_type": "display_data"
    }
   ],
   "source": [
    "plt.scatter(data.z,data.petroMag_g)\n",
    "plt.legend(['z','petroMag_g'])\n",
    "plt.xscale(\"linear\")\n",
    "plt.yscale(\"linear\")\n",
    "plt.xlabel('z')\n",
    "plt.ylabel('petroMag_g')\n",
    "plt.title(\"the distribution of z and petroMag_g\")\n",
    "plt.show"
   ]
  },
  {
   "cell_type": "code",
   "execution_count": null,
   "metadata": {},
   "outputs": [],
   "source": []
  },
  {
   "cell_type": "code",
   "execution_count": null,
   "metadata": {},
   "outputs": [],
   "source": []
  },
  {
   "cell_type": "code",
   "execution_count": null,
   "metadata": {},
   "outputs": [],
   "source": []
  }
 ],
 "metadata": {
  "kernelspec": {
   "display_name": "Python 3",
   "language": "python",
   "name": "python3"
  },
  "language_info": {
   "codemirror_mode": {
    "name": "ipython",
    "version": 3
   },
   "file_extension": ".py",
   "mimetype": "text/x-python",
   "name": "python",
   "nbconvert_exporter": "python",
   "pygments_lexer": "ipython3",
   "version": "3.7.4"
  }
 },
 "nbformat": 4,
 "nbformat_minor": 4
}
